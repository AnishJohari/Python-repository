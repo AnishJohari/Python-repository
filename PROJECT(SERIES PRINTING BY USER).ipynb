{
 "cells": [
  {
   "cell_type": "code",
   "execution_count": 13,
   "id": "4d5bc8f8-86cc-41f3-b338-f114091fc2f3",
   "metadata": {},
   "outputs": [
    {
     "name": "stdin",
     "output_type": "stream",
     "text": [
      "Enter the starting value:  1\n",
      "Enter the ending value:  10\n",
      "Enter the direction (horizontal or vertical):  H\n",
      "Enter the order (forward or reverse):  F\n"
     ]
    },
    {
     "name": "stdout",
     "output_type": "stream",
     "text": [
      "1 2 3 4 5 6 7 8 9 10 "
     ]
    }
   ],
   "source": [
    "start = int(input(\"Enter the starting value: \"))\n",
    "end = int(input(\"Enter the ending value: \"))\n",
    "direction = input(\"Enter the direction (horizontal or vertical): \")\n",
    "order = input(\"Enter the order (forward or reverse): \")\n",
    "\n",
    "if direction == 'h' or direction == 'H':\n",
    "  if order == 'f' or order == 'F':\n",
    "    for num in range(start, end + 1):\n",
    "      print(num, end=' ')\n",
    "  elif order == 'r' or order == 'R':\n",
    "    for num in range(end, start - 1, -1):\n",
    "      print(num, end=' ')\n",
    "  else:\n",
    "    print(\"Invalid order. Please enter 'forward' or 'reverse'.\")\n",
    "elif direction == 'v' or direction == 'V':\n",
    "  if order == 'f' or order == 'F':\n",
    "    for num in range(start, end + 1):\n",
    "      print(num)\n",
    "  elif order == 'r' or order == 'R' :\n",
    "    for num in range(end, start - 1, -1):\n",
    "      print(num)\n",
    "  else:\n",
    "    print(\"Invalid order. Please enter 'forward' or 'reverse'.\")\n",
    "else:\n",
    "  print(\"Invalid direction. Please enter 'horizontal' or 'vertical'.\")"
   ]
  },
  {
   "cell_type": "code",
   "execution_count": null,
   "id": "2603ae0a-0a50-49d4-8047-f533f57628f7",
   "metadata": {},
   "outputs": [],
   "source": []
  }
 ],
 "metadata": {
  "kernelspec": {
   "display_name": "Python 3 (ipykernel)",
   "language": "python",
   "name": "python3"
  },
  "language_info": {
   "codemirror_mode": {
    "name": "ipython",
    "version": 3
   },
   "file_extension": ".py",
   "mimetype": "text/x-python",
   "name": "python",
   "nbconvert_exporter": "python",
   "pygments_lexer": "ipython3",
   "version": "3.12.4"
  }
 },
 "nbformat": 4,
 "nbformat_minor": 5
}
