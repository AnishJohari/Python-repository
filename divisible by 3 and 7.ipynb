{
 "cells": [
  {
   "cell_type": "code",
   "execution_count": 9,
   "id": "a0e61c84-68cb-40b8-acfb-438fd653eafb",
   "metadata": {},
   "outputs": [
    {
     "name": "stdin",
     "output_type": "stream",
     "text": [
      "PROVIDE US THE NUMBER :  99\n"
     ]
    },
    {
     "name": "stdout",
     "output_type": "stream",
     "text": [
      "GIVEN NUMBER IS DIVISIBLE BY 3\n"
     ]
    }
   ],
   "source": [
    "number=int(input(\"PROVIDE US THE NUMBER : \"))\n",
    "if number%3==0 and number%7==0:\n",
    "    print(\"GIVEN NUMBER IS DIVISIBLE BY BOTH 3 AND 7\")\n",
    "elif number%3==0:\n",
    "    print(\"GIVEN NUMBER IS DIVISIBLE BY 3\")\n",
    "elif number%7==0:\n",
    "    print(\"GIVEN NUMBER IS DIVISIBLE BY 7\")\n",
    "else:\n",
    "    print(\"NUMBER IS NEIGHTER DIVISIBLE BY 3 AND 7\")"
   ]
  },
  {
   "cell_type": "code",
   "execution_count": null,
   "id": "edb4bfea-19a4-42b3-a5b7-3d67235751be",
   "metadata": {},
   "outputs": [],
   "source": []
  }
 ],
 "metadata": {
  "kernelspec": {
   "display_name": "Python 3 (ipykernel)",
   "language": "python",
   "name": "python3"
  },
  "language_info": {
   "codemirror_mode": {
    "name": "ipython",
    "version": 3
   },
   "file_extension": ".py",
   "mimetype": "text/x-python",
   "name": "python",
   "nbconvert_exporter": "python",
   "pygments_lexer": "ipython3",
   "version": "3.12.4"
  }
 },
 "nbformat": 4,
 "nbformat_minor": 5
}
