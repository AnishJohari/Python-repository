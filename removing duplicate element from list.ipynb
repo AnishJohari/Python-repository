{
 "cells": [
  {
   "cell_type": "code",
   "execution_count": 1,
   "id": "08b91921-b0aa-4146-97a0-ee9309f4bc06",
   "metadata": {},
   "outputs": [
    {
     "name": "stdout",
     "output_type": "stream",
     "text": [
      "{1, 2, 3, 4, 5}\n"
     ]
    }
   ],
   "source": [
    "#BY FOR LOOP FINDING UNIQUE ELEMENTS\n",
    "test=(1,2,3,4,5,3,5,1,1,3)\n",
    "answer=set()\n",
    "for i in test:\n",
    "    if i not in answer:\n",
    "        answer.add(i)\n",
    "    else:\n",
    "        continue\n",
    "print(answer)"
   ]
  },
  {
   "cell_type": "code",
   "execution_count": 3,
   "id": "7c55162c-028d-4fde-8227-429bb414106e",
   "metadata": {},
   "outputs": [
    {
     "name": "stdout",
     "output_type": "stream",
     "text": [
      "{1, 2, 3, 4, 5}\n"
     ]
    }
   ],
   "source": [
    "#BY USING SET FUNCTION FINDING UNIQUE ELEMENTS\n",
    "test=(1,2,3,4,5,3,5,1,1,3)\n",
    "print(set(test))"
   ]
  },
  {
   "cell_type": "code",
   "execution_count": 7,
   "id": "18417de1-6d48-4509-9fde-5f6b092262cf",
   "metadata": {},
   "outputs": [
    {
     "name": "stdout",
     "output_type": "stream",
     "text": [
      "(1, 2, 3, 4, 5)\n"
     ]
    }
   ],
   "source": [
    "#BY FOR LOOP AND USING LIST AND CONVERTING INTO TUPLE FINDING UNIQUE ELEMENTS\n",
    "test=(1,2,3,4,5,3,5,1,1,3)\n",
    "TEMP=[]\n",
    "for ele in test:\n",
    "    if ele not in TEMP:\n",
    "        TEMP.append(ele)\n",
    "newtest=tuple(TEMP)\n",
    "print(newtest)"
   ]
  },
  {
   "cell_type": "code",
   "execution_count": 15,
   "id": "0674847e-29b2-4b89-b2df-c7fb771f1f68",
   "metadata": {},
   "outputs": [
    {
     "name": "stdout",
     "output_type": "stream",
     "text": [
      "(2, 4)\n"
     ]
    }
   ],
   "source": [
    "test=(1,2,3,4,5,3,5,1,1,3)\n",
    "tup=[]\n",
    "for i in test:\n",
    "    if test.count(i)==1:\n",
    "        tup.append(i)\n",
    "print(tuple(tup))"
   ]
  },
  {
   "cell_type": "code",
   "execution_count": 21,
   "id": "1dfe5ac6-daf4-4f30-a6f7-c6d700a5dfbb",
   "metadata": {},
   "outputs": [
    {
     "name": "stdout",
     "output_type": "stream",
     "text": [
      "(('tpl', 'listt'), ('a', 1), ('roll', 'number'))\n"
     ]
    }
   ],
   "source": [
    "listt=[['tpl','listt'],['a',1],['roll','number']]\n",
    "tpl=[]\n",
    "for i in listt:\n",
    "    tpl.append(tuple(i))\n",
    "print(tuple(tpl))"
   ]
  },
  {
   "cell_type": "code",
   "execution_count": 25,
   "id": "aba42224-1c03-44a6-a92e-b9769cc253a6",
   "metadata": {},
   "outputs": [
    {
     "name": "stdout",
     "output_type": "stream",
     "text": [
      "(('tpl', 'listt'), ('a', 1), ('roll', 'number'))\n"
     ]
    }
   ],
   "source": [
    "listt=[['tpl','listt'],['a',1],['roll','number']]\n",
    "print(tuple(tuple(pair) for pair in listt))"
   ]
  },
  {
   "cell_type": "code",
   "execution_count": 33,
   "id": "1aed3ec3-09ab-4906-a96b-ae1c13b92cb9",
   "metadata": {},
   "outputs": [
    {
     "name": "stdout",
     "output_type": "stream",
     "text": [
      "{'b': 2, 'c': 3}\n"
     ]
    }
   ],
   "source": [
    "dic={'a':1,'b':2,'c':3}\n",
    "del dic['a']\n",
    "print(dic)"
   ]
  },
  {
   "cell_type": "code",
   "execution_count": 39,
   "id": "3028d37c-98cc-4ca5-a201-20acfc661b2f",
   "metadata": {},
   "outputs": [
    {
     "name": "stdout",
     "output_type": "stream",
     "text": [
      "{2: 'aarav', 1: 'parth'}\n"
     ]
    }
   ],
   "source": [
    "s=\"raman suman das raman das aarav parth aarav\"\n",
    "listt={}\n",
    "for i in s.split():\n",
    "    listt[s.count(i)]=i\n",
    "print(listt)"
   ]
  },
  {
   "cell_type": "code",
   "execution_count": null,
   "id": "ead8d7ac-3386-4edb-9bfb-f89ff5317110",
   "metadata": {},
   "outputs": [],
   "source": []
  }
 ],
 "metadata": {
  "kernelspec": {
   "display_name": "Python 3 (ipykernel)",
   "language": "python",
   "name": "python3"
  },
  "language_info": {
   "codemirror_mode": {
    "name": "ipython",
    "version": 3
   },
   "file_extension": ".py",
   "mimetype": "text/x-python",
   "name": "python",
   "nbconvert_exporter": "python",
   "pygments_lexer": "ipython3",
   "version": "3.12.4"
  }
 },
 "nbformat": 4,
 "nbformat_minor": 5
}
