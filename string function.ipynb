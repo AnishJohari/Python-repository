{
 "cells": [
  {
   "cell_type": "code",
   "execution_count": 5,
   "id": "5564dc12-1eac-4e78-b8f6-e661b8e70f88",
   "metadata": {},
   "outputs": [
    {
     "name": "stdout",
     "output_type": "stream",
     "text": [
      "0\n"
     ]
    }
   ],
   "source": [
    "s=\"String topic\"\n",
    "print(s.count(\"t\",2,7))"
   ]
  },
  {
   "cell_type": "code",
   "execution_count": 11,
   "id": "8a8070db-7fe8-49a5-b117-6dd014fc8875",
   "metadata": {},
   "outputs": [
    {
     "name": "stdin",
     "output_type": "stream",
     "text": [
      " 10,20,30\n"
     ]
    },
    {
     "name": "stdout",
     "output_type": "stream",
     "text": [
      "10 20 30\n"
     ]
    }
   ],
   "source": [
    "a,b,c=input().split(\",\")\n",
    "print(a,b,c)"
   ]
  },
  {
   "cell_type": "code",
   "execution_count": 15,
   "id": "4be51a43-9aac-45ba-8a9c-b7a19b9b1fc8",
   "metadata": {},
   "outputs": [
    {
     "name": "stdin",
     "output_type": "stream",
     "text": [
      " 10,20,30\n"
     ]
    },
    {
     "name": "stdout",
     "output_type": "stream",
     "text": [
      "60\n"
     ]
    }
   ],
   "source": [
    "a,b,c=map(int,input().split(\",\"))\n",
    "print(a+b+c)"
   ]
  },
  {
   "cell_type": "code",
   "execution_count": 17,
   "id": "a4798173-aa5e-4048-b87b-f39222fe54e6",
   "metadata": {},
   "outputs": [
    {
     "name": "stdin",
     "output_type": "stream",
     "text": [
      " 'hello'\n"
     ]
    },
    {
     "name": "stdout",
     "output_type": "stream",
     "text": [
      "<class 'str'>\n",
      "hello\n"
     ]
    }
   ],
   "source": [
    "a=eval(input())\n",
    "print(type(a))\n",
    "print(a)"
   ]
  },
  {
   "cell_type": "code",
   "execution_count": 7,
   "id": "b078c8d9-4eac-44b1-a75e-91a2c6d9317c",
   "metadata": {},
   "outputs": [
    {
     "name": "stdin",
     "output_type": "stream",
     "text": [
      " Anish Johari\n"
     ]
    },
    {
     "name": "stdout",
     "output_type": "stream",
     "text": [
      "A.Johari\n"
     ]
    }
   ],
   "source": [
    "def string(s):\n",
    "    first=''\n",
    "    a=s.split()\n",
    "    first=first+a[0][0]+\".\"+a[-1]\n",
    "    return first\n",
    "print(string(input()))"
   ]
  },
  {
   "cell_type": "code",
   "execution_count": 11,
   "id": "15ca9d3d-ffed-409f-b155-e46e4851d693",
   "metadata": {},
   "outputs": [
    {
     "name": "stdin",
     "output_type": "stream",
     "text": [
      " 2000 2\n"
     ]
    },
    {
     "name": "stdout",
     "output_type": "stream",
     "text": [
      "2000\n",
      "2\n"
     ]
    }
   ],
   "source": [
    "def tax():\n",
    "    inp=input()\n",
    "    for i in inp.split():\n",
    "        \n",
    "\n",
    "tax()"
   ]
  },
  {
   "cell_type": "code",
   "execution_count": 17,
   "id": "cd5c4b86-f734-4cf5-92f1-bc5a34866c8b",
   "metadata": {},
   "outputs": [
    {
     "name": "stdout",
     "output_type": "stream",
     "text": [
      "dict_values([1, 2])\n"
     ]
    }
   ],
   "source": [
    "dic={'a':1,'b':2}\n",
    "print(dic.values())"
   ]
  },
  {
   "cell_type": "code",
   "execution_count": 21,
   "id": "4f5192dc-fe42-4240-aa29-63e5f94e18d8",
   "metadata": {},
   "outputs": [
    {
     "name": "stdout",
     "output_type": "stream",
     "text": [
      "{'b': 2}\n"
     ]
    }
   ],
   "source": [
    "dic={'a':1,'b':2}\n",
    "del dic['a']\n",
    "print(dic)"
   ]
  },
  {
   "cell_type": "code",
   "execution_count": 25,
   "id": "9cff6c29-5689-4033-b245-1d3f319c846b",
   "metadata": {},
   "outputs": [
    {
     "name": "stdout",
     "output_type": "stream",
     "text": [
      "['t', 'h', 'i', 's', ' ', 'i', 's', ' ', 'a', ' ', 'p', 'r', 'o', 'g', 'r', 'a', 'm', 'm', 'e']\n",
      "['this', 'is', 'a', 'programme']\n"
     ]
    }
   ],
   "source": [
    "a=\"this is a programme\"\n",
    "print(list(a))\n",
    "print(a.split())"
   ]
  },
  {
   "cell_type": "code",
   "execution_count": null,
   "id": "01f24db6-cfd8-4e04-894a-a537f5161a2c",
   "metadata": {},
   "outputs": [],
   "source": []
  }
 ],
 "metadata": {
  "kernelspec": {
   "display_name": "Python 3 (ipykernel)",
   "language": "python",
   "name": "python3"
  },
  "language_info": {
   "codemirror_mode": {
    "name": "ipython",
    "version": 3
   },
   "file_extension": ".py",
   "mimetype": "text/x-python",
   "name": "python",
   "nbconvert_exporter": "python",
   "pygments_lexer": "ipython3",
   "version": "3.12.4"
  }
 },
 "nbformat": 4,
 "nbformat_minor": 5
}
