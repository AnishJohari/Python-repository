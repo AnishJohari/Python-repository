{
 "cells": [
  {
   "cell_type": "code",
   "execution_count": 9,
   "id": "daff568b-9c33-49a6-b0af-6b5a8823c196",
   "metadata": {},
   "outputs": [
    {
     "name": "stdin",
     "output_type": "stream",
     "text": [
      "PROVIDE US THE NUMBER : 10\n"
     ]
    },
    {
     "name": "stdout",
     "output_type": "stream",
     "text": [
      "THE NUMBER IS NOT A PALIDROWN\n"
     ]
    }
   ],
   "source": [
    "num=int(input(\"PROVIDE US THE NUMBER :\"))\n",
    "rev=0\n",
    "n=num\n",
    "while (n!=0):\n",
    "\n",
    "    r=n%10\n",
    "    rev=rev*10+r\n",
    "    n=n//10\n",
    "\n",
    "if(n==rev):\n",
    "    print(\"THE NUMBER IS A PALIDROWN\")\n",
    "else:\n",
    "    print(\"THE NUMBER IS NOT A PALIDROWN\")"
   ]
  },
  {
   "cell_type": "code",
   "execution_count": 13,
   "id": "fb4385d9-a927-4edb-9de2-33529d0e2683",
   "metadata": {},
   "outputs": [
    {
     "name": "stdin",
     "output_type": "stream",
     "text": [
      "PROVIDE US THE NUMBER :  145\n"
     ]
    },
    {
     "name": "stdout",
     "output_type": "stream",
     "text": [
      "THE GIVEN NUMBER IS NOT A STRONG NUMBER...\n"
     ]
    }
   ],
   "source": [
    "num=int(input(\"PROVIDE US THE NUMBER : \"))\n",
    "rev=0\n",
    "SUM=0\n",
    "factorial=0\n",
    "while (n!=0):\n",
    "    rev=num%10\n",
    "    for i in range(1,rev+1):\n",
    "        factorial=factorial*i\n",
    "    sum=sum+factorial\n",
    "    n=n//10\n",
    "if (num==sum):\n",
    "    print(\"THE GIVEN NUMBER IS A STRONG NUMBER...\")\n",
    "else:\n",
    "    print(\"THE GIVEN NUMBER IS NOT A STRONG NUMBER...\")"
   ]
  },
  {
   "cell_type": "code",
   "execution_count": 17,
   "id": "b9923ebc-4690-4a98-8233-ff309cc377fd",
   "metadata": {},
   "outputs": [
    {
     "name": "stdin",
     "output_type": "stream",
     "text": [
      "ENTER A NUMBER :  KK\n"
     ]
    },
    {
     "ename": "ValueError",
     "evalue": "invalid literal for int() with base 10: 'KK'",
     "output_type": "error",
     "traceback": [
      "\u001b[1;31m---------------------------------------------------------------------------\u001b[0m",
      "\u001b[1;31mValueError\u001b[0m                                Traceback (most recent call last)",
      "Cell \u001b[1;32mIn[17], line 1\u001b[0m\n\u001b[1;32m----> 1\u001b[0m n\u001b[38;5;241m=\u001b[39m\u001b[38;5;28mint\u001b[39m(\u001b[38;5;28minput\u001b[39m(\u001b[38;5;124m\"\u001b[39m\u001b[38;5;124mENTER A NUMBER : \u001b[39m\u001b[38;5;124m\"\u001b[39m))\n\u001b[0;32m      2\u001b[0m \u001b[38;5;28msum\u001b[39m\u001b[38;5;241m=\u001b[39m\u001b[38;5;241m0\u001b[39m;count\u001b[38;5;241m=\u001b[39mnum\n\u001b[0;32m      3\u001b[0m \u001b[38;5;28;01mwhile\u001b[39;00m(num\u001b[38;5;241m!=\u001b[39m\u001b[38;5;241m0\u001b[39m):\n",
      "\u001b[1;31mValueError\u001b[0m: invalid literal for int() with base 10: 'KK'"
     ]
    }
   ],
   "source": [
    "n=int(input(\"ENTER A NUMBER : \"))\n",
    "sum=0;count=num\n",
    "while(num!=0):\n",
    "    rem=num%10\n",
    "    count=count+1\n",
    "    num=num//10\n",
    "while (temp!=0):\n",
    "    r=temp%10\n",
    "    sum=sum+(r**count)\n",
    "    temp=temp//10\n",
    "if (num==sum):\n",
    "    print(\"THE GIVEN NUMBER IS ARMSTRONG NUMBER\")\n",
    "else:\n",
    "    print(\"THE GIVEN NUMBER IS NOT A ARMSTRONG NUMBER\")"
   ]
  },
  {
   "cell_type": "code",
   "execution_count": 23,
   "id": "f02ac8f0-271b-48ff-97e7-3b345b1e90f1",
   "metadata": {},
   "outputs": [
    {
     "name": "stdin",
     "output_type": "stream",
     "text": [
      "ENTER A NUMBER :  A\n"
     ]
    },
    {
     "ename": "ValueError",
     "evalue": "invalid literal for int() with base 10: 'A'",
     "output_type": "error",
     "traceback": [
      "\u001b[1;31m---------------------------------------------------------------------------\u001b[0m",
      "\u001b[1;31mValueError\u001b[0m                                Traceback (most recent call last)",
      "Cell \u001b[1;32mIn[23], line 2\u001b[0m\n\u001b[0;32m      1\u001b[0m \u001b[38;5;28msum\u001b[39m\u001b[38;5;241m=\u001b[39m\u001b[38;5;241m0\u001b[39m\n\u001b[1;32m----> 2\u001b[0m num\u001b[38;5;241m=\u001b[39m\u001b[38;5;28mint\u001b[39m(\u001b[38;5;28minput\u001b[39m(\u001b[38;5;124m\"\u001b[39m\u001b[38;5;124mENTER A NUMBER : \u001b[39m\u001b[38;5;124m\"\u001b[39m))\n\u001b[0;32m      3\u001b[0m \u001b[38;5;28;01mfor\u001b[39;00m i \u001b[38;5;129;01min\u001b[39;00m \u001b[38;5;28mrange\u001b[39m(\u001b[38;5;241m1\u001b[39m,n):\n\u001b[0;32m      4\u001b[0m     \u001b[38;5;28;01mif\u001b[39;00m num\u001b[38;5;241m%\u001b[39mi\u001b[38;5;241m==\u001b[39m\u001b[38;5;241m0\u001b[39m:\n",
      "\u001b[1;31mValueError\u001b[0m: invalid literal for int() with base 10: 'A'"
     ]
    }
   ],
   "source": [
    "sum=0\n",
    "num=int(input(\"ENTER A NUMBER : \"))\n",
    "for i in range(1,n):\n",
    "    if num%i==0:\n",
    "        sum+=1\n",
    "if num==sum:\n",
    "    print(\"THE NUMBER IS A PERFECT NUMBER...\")\n",
    "else:\n",
    "    print(\"THE NUMBER IS NOT A PERFECT NUMBER...\")"
   ]
  },
  {
   "cell_type": "code",
   "execution_count": 25,
   "id": "5b60d14c-9244-4424-85b4-249e927a6931",
   "metadata": {},
   "outputs": [
    {
     "name": "stdin",
     "output_type": "stream",
     "text": [
      "ENTER A NUMBER :  2\n"
     ]
    },
    {
     "name": "stdout",
     "output_type": "stream",
     "text": [
      "2 * 1 = 2\n",
      "2 * 2 = 4\n",
      "2 * 3 = 6\n",
      "2 * 4 = 8\n",
      "2 * 5 = 10\n",
      "2 * 6 = 12\n",
      "2 * 7 = 14\n",
      "2 * 8 = 16\n",
      "2 * 9 = 18\n",
      "2 * 10 = 20\n"
     ]
    }
   ],
   "source": [
    "n=int(input(\"ENTER A NUMBER : \"))\n",
    "for i in range(1,11):\n",
    "    print(n,\"*\",i,\"=\",n*i)"
   ]
  },
  {
   "cell_type": "code",
   "execution_count": 27,
   "id": "193fd774-6edd-4227-8ed7-13df233c5297",
   "metadata": {},
   "outputs": [
    {
     "name": "stdin",
     "output_type": "stream",
     "text": [
      "ENTER A NUMBER :  2\n"
     ]
    },
    {
     "name": "stdout",
     "output_type": "stream",
     "text": [
      "2\n",
      "4\n",
      "6\n",
      "8\n",
      "10\n",
      "12\n",
      "14\n",
      "16\n",
      "18\n",
      "20\n"
     ]
    }
   ],
   "source": [
    "n=int(input(\"ENTER A NUMBER : \"))\n",
    "for i in range(1,11):\n",
    "    print(n*i)"
   ]
  },
  {
   "cell_type": "code",
   "execution_count": null,
   "id": "dd198ac3-5c7e-4279-9750-f725d8aed6d0",
   "metadata": {},
   "outputs": [],
   "source": [
    "while True:\n",
    "    ch=input(\"TYPE Y TO CONTINUE OR N FOR EXIT :\")\n",
    "    if ch.lower()=='y':\n",
    "        st=int(input(\"enter a starting value : \"))\n",
    "        t=int(input(\"enter a ending value : \"))\n",
    "        step=int(input(\"enter a updation value : \"))\n",
    "        for i in range(st,t+1,step):\n",
    "            print(i,end=\" \")\n",
    "    elif ch.lower()=='n':\n",
    "        break\n",
    "    else:\n",
    "        print(\"invalid choice\")"
   ]
  },
  {
   "cell_type": "code",
   "execution_count": null,
   "id": "3e9673b4-3853-47a0-ab7a-60b3a5108688",
   "metadata": {},
   "outputs": [],
   "source": []
  }
 ],
 "metadata": {
  "kernelspec": {
   "display_name": "Python 3 (ipykernel)",
   "language": "python",
   "name": "python3"
  },
  "language_info": {
   "codemirror_mode": {
    "name": "ipython",
    "version": 3
   },
   "file_extension": ".py",
   "mimetype": "text/x-python",
   "name": "python",
   "nbconvert_exporter": "python",
   "pygments_lexer": "ipython3",
   "version": "3.12.4"
  }
 },
 "nbformat": 4,
 "nbformat_minor": 5
}
