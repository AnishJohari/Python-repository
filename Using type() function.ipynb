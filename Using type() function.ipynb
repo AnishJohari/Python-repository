{
 "cells": [
  {
   "cell_type": "code",
   "execution_count": 1,
   "id": "5ff4cd74-6f49-476e-85b4-44924584e196",
   "metadata": {},
   "outputs": [
    {
     "name": "stdout",
     "output_type": "stream",
     "text": [
      "ANISH JOHARI , <class 'str'>\n",
      "False 10.7 AH1 * <class 'str'>\n",
      "<class 'bool'>\n"
     ]
    }
   ],
   "source": [
    "n=\"ANISH JOHARI\"\n",
    "sec=\"AH1\"\n",
    "x=False\n",
    "y=h=10.7\n",
    "print(n,type(n),sep=\" , \")\n",
    "print(x,h,end=\" \")\n",
    "print(sec,type(sec),sep=\" * \")\n",
    "print(type(x))"
   ]
  },
  {
   "cell_type": "code",
   "execution_count": null,
   "id": "1515d3e1-02ac-48a9-b288-60c58d827135",
   "metadata": {},
   "outputs": [],
   "source": []
  }
 ],
 "metadata": {
  "kernelspec": {
   "display_name": "Python 3 (ipykernel)",
   "language": "python",
   "name": "python3"
  },
  "language_info": {
   "codemirror_mode": {
    "name": "ipython",
    "version": 3
   },
   "file_extension": ".py",
   "mimetype": "text/x-python",
   "name": "python",
   "nbconvert_exporter": "python",
   "pygments_lexer": "ipython3",
   "version": "3.12.4"
  }
 },
 "nbformat": 4,
 "nbformat_minor": 5
}
