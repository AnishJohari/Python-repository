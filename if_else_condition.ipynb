{
 "cells": [
  {
   "cell_type": "code",
   "execution_count": 3,
   "id": "b2eba671-1dae-4dfe-9f80-636b6bb93fc6",
   "metadata": {},
   "outputs": [
    {
     "name": "stdin",
     "output_type": "stream",
     "text": [
      "ENTER A NUMBER :  12\n"
     ]
    },
    {
     "name": "stdout",
     "output_type": "stream",
     "text": [
      "a is not equal to 10\n"
     ]
    }
   ],
   "source": [
    "a=int(input(\"ENTER A NUMBER : \"))\n",
    "if a==10:\n",
    "    print(\"a is equal to 10\")\n",
    "print(\"a is not equal to 10\")"
   ]
  },
  {
   "cell_type": "code",
   "execution_count": 5,
   "id": "19c10e12-04e3-4bf7-a363-85f0260b5d72",
   "metadata": {},
   "outputs": [
    {
     "name": "stdin",
     "output_type": "stream",
     "text": [
      "ENTER A NUMBER :  12\n"
     ]
    },
    {
     "name": "stdout",
     "output_type": "stream",
     "text": [
      "a is not equal to 10\n"
     ]
    }
   ],
   "source": [
    "a=int(input(\"ENTER A NUMBER : \"))\n",
    "if a==10:\n",
    "    print(\"a is equal to 10\")\n",
    "else:\n",
    "    print(\"a is not equal to 10\")"
   ]
  },
  {
   "cell_type": "code",
   "execution_count": 7,
   "id": "4a4af523-014a-45db-bb3a-3ce89f72efe2",
   "metadata": {},
   "outputs": [
    {
     "name": "stdin",
     "output_type": "stream",
     "text": [
      "enter a number :  10\n",
      "enter a number :  12\n"
     ]
    },
    {
     "name": "stdout",
     "output_type": "stream",
     "text": [
      "b is greatest\n"
     ]
    }
   ],
   "source": [
    "a=int(input(\"enter a number : \"))\n",
    "b=int(input(\"enter a number : \"))\n",
    "if a>b:\n",
    "    print(\"a is greatest\")\n",
    "else:\n",
    "    print(\"b is greatest\")"
   ]
  },
  {
   "cell_type": "code",
   "execution_count": 11,
   "id": "3118fcfc-6ef9-4318-b34f-f4201a890700",
   "metadata": {},
   "outputs": [
    {
     "name": "stdin",
     "output_type": "stream",
     "text": [
      "ENTER A NUMBER :  10\n"
     ]
    },
    {
     "name": "stdout",
     "output_type": "stream",
     "text": [
      "a is a even number which is, 10\n"
     ]
    }
   ],
   "source": [
    "a=int(input(\"ENTER A NUMBER : \"))\n",
    "if a%2==0:\n",
    "    print(\"a is a even number which is,\",a)\n",
    "else:\n",
    "    print(\"a is a odd number which is\",b)"
   ]
  },
  {
   "cell_type": "code",
   "execution_count": 15,
   "id": "c9deb51d-d1f9-4615-97a0-00f06009eb8b",
   "metadata": {},
   "outputs": [
    {
     "name": "stdin",
     "output_type": "stream",
     "text": [
      "ENTER A NUMBER :  1\n"
     ]
    },
    {
     "name": "stdout",
     "output_type": "stream",
     "text": [
      "a is a positive number\n"
     ]
    },
    {
     "name": "stdin",
     "output_type": "stream",
     "text": [
      "provide us the name :  abd\n"
     ]
    },
    {
     "name": "stdout",
     "output_type": "stream",
     "text": [
      "abd\n"
     ]
    }
   ],
   "source": [
    "a=a=int(input(\"ENTER A NUMBER : \"))\n",
    "if a<0:\n",
    "    print(\"a is a negative number\")\n",
    "    b=input(\"provide us the section : \")\n",
    "    print(b)\n",
    "else:\n",
    "    print(\"a is a positive number\")\n",
    "    name=input(\"provide us the name : \")\n",
    "    print(name)\n",
    "    "
   ]
  },
  {
   "cell_type": "code",
   "execution_count": 31,
   "id": "ec40c8ec-e049-4b4e-a090-c363bec4b745",
   "metadata": {},
   "outputs": [
    {
     "name": "stdin",
     "output_type": "stream",
     "text": [
      "enter a number :  10\n",
      "enter another number :  20\n",
      "enter third number :  30\n"
     ]
    },
    {
     "name": "stdout",
     "output_type": "stream",
     "text": [
      "c is greatest\n"
     ]
    }
   ],
   "source": [
    "a=int(input(\"enter a number : \"))\n",
    "b=int(input(\"enter another number : \"))\n",
    "c=int(input(\"enter third number : \"))\n",
    "if a>b:\n",
    "    if a>c:\n",
    "        print(\"a is greatest\")\n",
    "if b>a:\n",
    "    if b>c:\n",
    "        print(\"b is greatest\")\n",
    "print(\"c is greatest\")"
   ]
  },
  {
   "cell_type": "code",
   "execution_count": 33,
   "id": "5c891250-604f-4aef-9af0-41e56cda480e",
   "metadata": {},
   "outputs": [
    {
     "name": "stdin",
     "output_type": "stream",
     "text": [
      "enter a number :  200\n",
      "enter another number :  100\n",
      "enter third number :  500\n"
     ]
    },
    {
     "name": "stdout",
     "output_type": "stream",
     "text": [
      "c is greatest\n"
     ]
    }
   ],
   "source": [
    "a=int(input(\"enter a number : \"))\n",
    "b=int(input(\"enter another number : \"))\n",
    "c=int(input(\"enter third number : \"))\n",
    "if a>b:\n",
    "    if a>c:\n",
    "        print(\"a is greatest\")\n",
    "    else:\n",
    "        print(\"c is greatest\")\n",
    "if b>a:\n",
    "    if b>c:\n",
    "        print(\"b is greatest\")\n",
    "    else:\n",
    "        print(\"c is greatest\")\n"
   ]
  },
  {
   "cell_type": "code",
   "execution_count": 39,
   "id": "b2eefeaf-cc55-4b7e-b06d-55b45bc8a3ae",
   "metadata": {},
   "outputs": [
    {
     "name": "stdin",
     "output_type": "stream",
     "text": [
      "enter a number :  10\n",
      "enter a number :  5\n",
      "enter a number :  6\n"
     ]
    },
    {
     "name": "stdout",
     "output_type": "stream",
     "text": [
      "a is greatest 10\n"
     ]
    }
   ],
   "source": [
    "a=int(input(\"enter a number : \"))\n",
    "b=int(input(\"enter a number : \"))\n",
    "c=int(input(\"enter a number : \"))\n",
    "if a>b and a>c:\n",
    "    print(\"a is greatest\",a)\n",
    "elif b>c and b>a:\n",
    "    print(\"b is greatest\",b)\n",
    "else:\n",
    "    print(\"c is greatest\",c)"
   ]
  },
  {
   "cell_type": "code",
   "execution_count": null,
   "id": "d3cf6c31-02ae-4266-80b1-8637280b3a88",
   "metadata": {},
   "outputs": [],
   "source": [
    "a=int(input(\"ENTER A NUMBER : \"))\n",
    "if a%3==0 and a%7==0:\n",
    "    print(\"the number is divisible by both 3 and 7\")\n",
    "elif a%3==0:\n",
    "    print(\"number is divisible by 3\")\n",
    "else:\n",
    "    "
   ]
  },
  {
   "cell_type": "code",
   "execution_count": 3,
   "id": "3ac9ddbe-8ea1-4960-bee8-6567f64f6d46",
   "metadata": {},
   "outputs": [
    {
     "name": "stdin",
     "output_type": "stream",
     "text": [
      "ENTER A CHARACTER :  a\n"
     ]
    },
    {
     "name": "stdout",
     "output_type": "stream",
     "text": [
      "THE GIVEN CHARACTER IS A VOWEL...\n"
     ]
    }
   ],
   "source": [
    "#write a programme to check wheather a character is a vowel or consonent\n",
    "char=input(\"ENTER A CHARACTER : \")\n",
    "if char in ['a','e','i','o','u','A','E','I','O','U']:\n",
    "    print(\"THE GIVEN CHARACTER IS A VOWEL...\")\n",
    "elif char in ['b','c','d','f','g','h','j','k','l','m','n','p','q','r','s','t','v','w','x','y','z']:\n",
    "    print(\"THE GIVEN CHARACTER IS A CONSONENT...\")\n",
    "else:\n",
    "    print(\"THE GIVEN CHARACTER IS NOT VALID SO PROGRAMME IS TERMINATED...\")\n",
    "    exit()"
   ]
  },
  {
   "cell_type": "code",
   "execution_count": 11,
   "id": "cf4f0272-3794-48c2-b352-8994d2ba9eff",
   "metadata": {},
   "outputs": [
    {
     "ename": "SyntaxError",
     "evalue": "invalid syntax (1976786016.py, line 2)",
     "output_type": "error",
     "traceback": [
      "\u001b[1;36m  Cell \u001b[1;32mIn[11], line 2\u001b[1;36m\u001b[0m\n\u001b[1;33m    if x!==5:\u001b[0m\n\u001b[1;37m          ^\u001b[0m\n\u001b[1;31mSyntaxError\u001b[0m\u001b[1;31m:\u001b[0m invalid syntax\n"
     ]
    }
   ],
   "source": [
    "x=5\n",
    "if x!==5:\n",
    "    print(\"True\")\n",
    "\n",
    "else:\n",
    "    print(\"False\")"
   ]
  },
  {
   "cell_type": "code",
   "execution_count": 13,
   "id": "aa488e75-5a82-4f5d-bea1-6638d5584599",
   "metadata": {},
   "outputs": [
    {
     "name": "stdout",
     "output_type": "stream",
     "text": [
      "this is a equilateral triangle\n"
     ]
    }
   ],
   "source": [
    "a,b,c=5,5,5\n",
    "if (a!=b)and(b!=c)and(c!=a):\n",
    "    print(\"this is a scalene triangle\")\n",
    "elif (a==b)and(b==c):\n",
    "    print(\"this is a equilateral triangle\")\n",
    "else:\n",
    "    print(\"this is a isoleseous triangle\")"
   ]
  },
  {
   "cell_type": "code",
   "execution_count": 17,
   "id": "53ebc941-39b1-4c9d-9042-1de3d8366ee4",
   "metadata": {},
   "outputs": [
    {
     "name": "stdout",
     "output_type": "stream",
     "text": [
      "odd number\n"
     ]
    }
   ],
   "source": [
    "num=23\n",
    "if num %2==0:\n",
    "    print(\"even number\")\n",
    "else:\n",
    "    print(\"odd number\")"
   ]
  },
  {
   "cell_type": "code",
   "execution_count": 28,
   "id": "b2040b39-8c61-4af9-bf5f-af1ede309619",
   "metadata": {},
   "outputs": [
    {
     "name": "stdout",
     "output_type": "stream",
     "text": [
      "{1: 'c', 2: 'b'}\n"
     ]
    }
   ],
   "source": [
    "d={1:'a',2:'b',1:'c'}\n",
    "print(d)"
   ]
  },
  {
   "cell_type": "code",
   "execution_count": null,
   "id": "15965321-ca36-4413-b9f0-5c9c0d09304b",
   "metadata": {},
   "outputs": [],
   "source": []
  },
  {
   "cell_type": "code",
   "execution_count": null,
   "id": "5a127b93-6f32-4038-9a22-c8ad18af4eaa",
   "metadata": {},
   "outputs": [],
   "source": []
  }
 ],
 "metadata": {
  "kernelspec": {
   "display_name": "Python 3 (ipykernel)",
   "language": "python",
   "name": "python3"
  },
  "language_info": {
   "codemirror_mode": {
    "name": "ipython",
    "version": 3
   },
   "file_extension": ".py",
   "mimetype": "text/x-python",
   "name": "python",
   "nbconvert_exporter": "python",
   "pygments_lexer": "ipython3",
   "version": "3.12.4"
  }
 },
 "nbformat": 4,
 "nbformat_minor": 5
}
