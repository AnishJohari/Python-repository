{
 "cells": [
  {
   "cell_type": "code",
   "execution_count": null,
   "id": "d5f0d66a-c447-4211-a72f-0207a4ddf6af",
   "metadata": {},
   "outputs": [
    {
     "name": "stdin",
     "output_type": "stream",
     "text": [
      "TYPE Y TO CONTINUE OR N FOR EXIT : Y\n",
      "enter a starting value :  1\n",
      "enter a ending value :  10\n",
      "enter a updation value :  1\n"
     ]
    },
    {
     "name": "stdout",
     "output_type": "stream",
     "text": [
      "1 2 3 4 5 6 7 8 9 10 "
     ]
    }
   ],
   "source": [
    "while True:\n",
    "    ch=input(\"TYPE Y TO CONTINUE OR N FOR EXIT :\")\n",
    "    if ch.lower()=='y':\n",
    "        st=int(input(\"enter a starting value : \"))\n",
    "        t=int(input(\"enter a ending value : \"))\n",
    "        step=int(input(\"enter a updation value : \"))\n",
    "        for i in range(st,t+1,step):\n",
    "            print(i,end=\" \")\n",
    "    elif ch.lower()=='n':\n",
    "        break\n",
    "    else:\n",
    "        print(\"invalid choice\")"
   ]
  },
  {
   "cell_type": "code",
   "execution_count": null,
   "id": "b940910d-d2f6-4f79-b4c5-5adee3677964",
   "metadata": {},
   "outputs": [],
   "source": []
  },
  {
   "cell_type": "code",
   "execution_count": null,
   "id": "e8d2dcfc-6777-488d-8af7-4014ee321b9e",
   "metadata": {},
   "outputs": [],
   "source": [
    "num=int(input(\"enter a number :\"))\n",
    "print(bin(num),end=\" ,\")\n",
    "n=hex(n)\n",
    "print(hex,type(n),sep=\" * \")"
   ]
  },
  {
   "cell_type": "code",
   "execution_count": null,
   "id": "7c4d4a17-47a4-420e-98b2-05d787f6f9ce",
   "metadata": {},
   "outputs": [],
   "source": []
  }
 ],
 "metadata": {
  "kernelspec": {
   "display_name": "Python 3 (ipykernel)",
   "language": "python",
   "name": "python3"
  },
  "language_info": {
   "codemirror_mode": {
    "name": "ipython",
    "version": 3
   },
   "file_extension": ".py",
   "mimetype": "text/x-python",
   "name": "python",
   "nbconvert_exporter": "python",
   "pygments_lexer": "ipython3",
   "version": "3.12.4"
  }
 },
 "nbformat": 4,
 "nbformat_minor": 5
}
