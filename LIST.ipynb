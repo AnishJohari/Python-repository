{
 "cells": [
  {
   "cell_type": "code",
   "execution_count": 5,
   "id": "8a69e02b-26e2-4927-98c3-8a73fbf67a84",
   "metadata": {},
   "outputs": [
    {
     "name": "stdout",
     "output_type": "stream",
     "text": [
      "1\n",
      "1.2\n",
      "1\n",
      "a\n",
      "True\n"
     ]
    }
   ],
   "source": [
    "#list traversing\n",
    "l1=[1,1.2,1,\"a\",True,]\n",
    "for i in l1:\n",
    "    print(i)"
   ]
  },
  {
   "cell_type": "code",
   "execution_count": 7,
   "id": "b272d052-5fd6-4fa6-b9d5-777e5af69dc3",
   "metadata": {},
   "outputs": [
    {
     "name": "stdout",
     "output_type": "stream",
     "text": [
      "[1, 1.2, 1, 'a', True]\n",
      "[1, 1.2, 1, 'a', True, 'abs']\n"
     ]
    }
   ],
   "source": [
    "l1=[1,1.2,1,\"a\",True,]\n",
    "print(l1)\n",
    "l1.append('abs')\n",
    "print(l1)"
   ]
  },
  {
   "cell_type": "code",
   "execution_count": 13,
   "id": "8f56f5b5-9a2d-4837-bc93-feb90fac1303",
   "metadata": {},
   "outputs": [
    {
     "name": "stdin",
     "output_type": "stream",
     "text": [
      "HOW MANY VALUES YOU WANT TO INSERT:  5\n",
      "ENTER A VALUE:  1\n",
      "ENTER A VALUE:  2\n",
      "ENTER A VALUE:  3\n",
      "ENTER A VALUE:  4\n",
      "ENTER A VALUE:  5\n"
     ]
    },
    {
     "name": "stdout",
     "output_type": "stream",
     "text": [
      "[1, 2, 3, 4, 5]\n"
     ]
    }
   ],
   "source": [
    "#CREATING LIST BY USER INPUT\n",
    "insert=int(input(\"HOW MANY VALUES YOU WANT TO INSERT: \"))\n",
    "n=1\n",
    "li=[]\n",
    "#USING WHILE LOOP\n",
    "while n<=insert:\n",
    "    value=int(input(\"ENTER A VALUE: \"))\n",
    "    li.append(value)\n",
    "    n+=1\n",
    "print(li)"
   ]
  },
  {
   "cell_type": "code",
   "execution_count": 15,
   "id": "af7b218a-6d4a-4a4d-8d21-f49938fd5951",
   "metadata": {},
   "outputs": [
    {
     "name": "stdin",
     "output_type": "stream",
     "text": [
      "HOW MANY VALUES YOU WANT TO INSERT:  5\n",
      "ENTER A VALUE:  1\n",
      "ENTER A VALUE:  2\n",
      "ENTER A VALUE:  3\n",
      "ENTER A VALUE:  4\n",
      "ENTER A VALUE:  5\n"
     ]
    },
    {
     "name": "stdout",
     "output_type": "stream",
     "text": [
      "[1, 2, 3, 4, 5]\n"
     ]
    }
   ],
   "source": [
    "#CREATING LIST BY USER INPUT\n",
    "insert=int(input(\"HOW MANY VALUES YOU WANT TO INSERT: \"))\n",
    "li=[]\n",
    "for i in range (insert):\n",
    "    value=int(input(\"ENTER A VALUE: \"))\n",
    "    li.append(value)\n",
    "print(li)"
   ]
  },
  {
   "cell_type": "code",
   "execution_count": 17,
   "id": "ad47395b-f678-461a-ad77-4e67057c5480",
   "metadata": {},
   "outputs": [
    {
     "name": "stdin",
     "output_type": "stream",
     "text": [
      "HOW MANY VALUES YOU WANT TO INSERT:  5\n",
      "ENTER A VALUE:  1\n",
      "ENTER A VALUE:  2\n",
      "ENTER A VALUE:  3\n",
      "ENTER A VALUE:  4\n",
      "ENTER A VALUE:  5\n"
     ]
    },
    {
     "name": "stdout",
     "output_type": "stream",
     "text": [
      "15\n"
     ]
    }
   ],
   "source": [
    "#CREATING LIST BY USER INPUT\n",
    "insert=int(input(\"HOW MANY VALUES YOU WANT TO INSERT: \"))\n",
    "li=[]\n",
    "#DOIND SUM OF ELEMENTS OF LIST\n",
    "for i in range (insert):\n",
    "    value=int(input(\"ENTER A VALUE: \"))\n",
    "    li.append(value)\n",
    "print(sum(li))"
   ]
  },
  {
   "cell_type": "code",
   "execution_count": null,
   "id": "62a8f159-1fe7-459b-9ccc-1e81e7f75efd",
   "metadata": {},
   "outputs": [],
   "source": [
    "#CREATING LIST BY USER INPUT\n",
    "insert=int(input(\"HOW MANY VALUES YOU WANT TO INSERT: \"))\n",
    "n=1\n",
    "li=[]\n",
    "#USING WHILE LOOP FOR ADDITION\n",
    "while n<=insert:\n",
    "    value=int(input(\"ENTER A VALUE: \"))\n",
    "    li.append(value)\n",
    "    n+=1\n",
    "print(sum(li))"
   ]
  },
  {
   "cell_type": "code",
   "execution_count": 19,
   "id": "7cb63639-139b-4023-b1c0-26d2a9758bee",
   "metadata": {},
   "outputs": [
    {
     "name": "stdin",
     "output_type": "stream",
     "text": [
      "HOW MANY VALUES YOU WANT TO INSERT:  5\n",
      "ENTER A VALUE:  1\n",
      "ENTER A VALUE:  2\n",
      "ENTER A VALUE:  3\n",
      "ENTER A VALUE:  4\n",
      "ENTER A VALUE:  5\n"
     ]
    },
    {
     "name": "stdout",
     "output_type": "stream",
     "text": [
      "[1, 2, 3, 4, 5]\n",
      "15\n"
     ]
    }
   ],
   "source": [
    "#CREATING LIST BY USER INPUT\n",
    "insert=int(input(\"HOW MANY VALUES YOU WANT TO INSERT: \"))\n",
    "li=[]\n",
    "sum=0\n",
    "#DOIND SUM OF ELEMENTS OF LIST\n",
    "for i in range (insert):\n",
    "    value=int(input(\"ENTER A VALUE: \"))\n",
    "    li.append(value)\n",
    "print(li)\n",
    "for i in li:\n",
    "    sum+=i\n",
    "print(sum)"
   ]
  },
  {
   "cell_type": "code",
   "execution_count": 21,
   "id": "a4feb85f-f99f-42b9-b5bc-fc625456b35c",
   "metadata": {},
   "outputs": [
    {
     "name": "stdin",
     "output_type": "stream",
     "text": [
      "HOW MANY VALUES YOU WANT TO INSERT:  5\n",
      "ENTER A VALUE:  1\n",
      "ENTER A VALUE:  2\n",
      "ENTER A VALUE:  3\n",
      "ENTER A VALUE:  4\n",
      "ENTER A VALUE:  5\n"
     ]
    },
    {
     "name": "stdout",
     "output_type": "stream",
     "text": [
      "[1, 2, 3, 4, 5]\n",
      "15\n"
     ]
    }
   ],
   "source": [
    "#CREATING LIST BY USER INPUT\n",
    "insert=int(input(\"HOW MANY VALUES YOU WANT TO INSERT: \"))\n",
    "li=[]\n",
    "sum=0\n",
    "#DOIND SUM OF ELEMENTS OF LIST\n",
    "for i in range (insert):\n",
    "    value=int(input(\"ENTER A VALUE: \"))\n",
    "    li.append(value)\n",
    "print(li)\n",
    "for i in range(0,len(li)):\n",
    "    sum+=li[i]\n",
    "print(sum)"
   ]
  },
  {
   "cell_type": "code",
   "execution_count": 23,
   "id": "f57ff62c-b8cd-462e-8480-6777027587b9",
   "metadata": {},
   "outputs": [
    {
     "name": "stdin",
     "output_type": "stream",
     "text": [
      "HOW MANY VALUES YOU WANT TO INSERT:  5\n",
      "ENTER A VALUE:  1\n",
      "ENTER A VALUE:  2\n",
      "ENTER A VALUE:  3\n",
      "ENTER A VALUE:  4\n",
      "ENTER A VALUE:  5\n"
     ]
    },
    {
     "name": "stdout",
     "output_type": "stream",
     "text": [
      "[1, 2, 3, 4, 5]\n",
      "15\n"
     ]
    }
   ],
   "source": [
    "#CREATING LIST BY USER INPUT\n",
    "insert=int(input(\"HOW MANY VALUES YOU WANT TO INSERT: \"))\n",
    "n=1\n",
    "li=[]\n",
    "sum=0\n",
    "#USING WHILE LOOP FOR ADDITION\n",
    "while n<=insert:\n",
    "    value=int(input(\"ENTER A VALUE: \"))\n",
    "    li.append(value)\n",
    "    n+=1\n",
    "print(li)\n",
    "for i in range(0,len(li)):\n",
    "    sum+=li[i]\n",
    "print(sum)"
   ]
  },
  {
   "cell_type": "code",
   "execution_count": null,
   "id": "8f308f3d-1d67-4042-ace9-091b964bfb90",
   "metadata": {},
   "outputs": [],
   "source": [
    "#CREATING LIST BY USER INPUT\n",
    "insert=int(input(\"HOW MANY VALUES YOU WANT TO INSERT: \"))\n",
    "li=[]\n",
    "sum=0\n",
    "#DOIND SUM OF ELEMENTS OF LIST\n",
    "for i in insert:\n",
    "    value=int(input(\"ENTER A VALUE: \"))\n",
    "    li.append(value)\n",
    "print(li)\n",
    "for i in range(0,len(li)):\n",
    "    sum+=li[i]\n",
    "print(sum)"
   ]
  },
  {
   "cell_type": "code",
   "execution_count": 27,
   "id": "3ad78870-8cbe-41f8-ae5f-906320d118cc",
   "metadata": {},
   "outputs": [
    {
     "name": "stdin",
     "output_type": "stream",
     "text": [
      "enter a last digit:  djsknk\n"
     ]
    },
    {
     "ename": "ValueError",
     "evalue": "invalid literal for int() with base 10: 'djsknk'",
     "output_type": "error",
     "traceback": [
      "\u001b[1;31m---------------------------------------------------------------------------\u001b[0m",
      "\u001b[1;31mValueError\u001b[0m                                Traceback (most recent call last)",
      "Cell \u001b[1;32mIn[27], line 1\u001b[0m\n\u001b[1;32m----> 1\u001b[0m insert\u001b[38;5;241m=\u001b[39m\u001b[38;5;28mint\u001b[39m(\u001b[38;5;28minput\u001b[39m(\u001b[38;5;124m\"\u001b[39m\u001b[38;5;124menter a last digit: \u001b[39m\u001b[38;5;124m\"\u001b[39m))\n\u001b[0;32m      2\u001b[0m \u001b[38;5;28msum\u001b[39m\u001b[38;5;241m=\u001b[39m\u001b[38;5;241m0\u001b[39m\n\u001b[0;32m      3\u001b[0m li\u001b[38;5;241m=\u001b[39m[]\n",
      "\u001b[1;31mValueError\u001b[0m: invalid literal for int() with base 10: 'djsknk'"
     ]
    }
   ],
   "source": [
    "insert=int(input(\"enter a last digit: \"))\n",
    "sum=0\n",
    "li=[]\n",
    "for i in range(insert):\n",
    "    value=int(input(\"enter value: \"))\n",
    "    li.append(value)\n",
    "print(li)\n",
    "for i in li:\n",
    "    sum+=i\n",
    "\n",
    "print(sum)"
   ]
  },
  {
   "cell_type": "code",
   "execution_count": 31,
   "id": "ad7cbd34-a08b-425f-8cbb-1eaecdd2fc83",
   "metadata": {},
   "outputs": [
    {
     "name": "stdin",
     "output_type": "stream",
     "text": [
      "enter a last digit:  JKMN\n"
     ]
    },
    {
     "ename": "ValueError",
     "evalue": "invalid literal for int() with base 10: 'JKMN'",
     "output_type": "error",
     "traceback": [
      "\u001b[1;31m---------------------------------------------------------------------------\u001b[0m",
      "\u001b[1;31mValueError\u001b[0m                                Traceback (most recent call last)",
      "Cell \u001b[1;32mIn[31], line 2\u001b[0m\n\u001b[0;32m      1\u001b[0m \u001b[38;5;66;03m#swapping first and last value of list\u001b[39;00m\n\u001b[1;32m----> 2\u001b[0m insert\u001b[38;5;241m=\u001b[39m\u001b[38;5;28mint\u001b[39m(\u001b[38;5;28minput\u001b[39m(\u001b[38;5;124m\"\u001b[39m\u001b[38;5;124menter a last digit: \u001b[39m\u001b[38;5;124m\"\u001b[39m))\n\u001b[0;32m      3\u001b[0m \u001b[38;5;28msum\u001b[39m\u001b[38;5;241m=\u001b[39m\u001b[38;5;241m0\u001b[39m\n\u001b[0;32m      4\u001b[0m li\u001b[38;5;241m=\u001b[39m[]\n",
      "\u001b[1;31mValueError\u001b[0m: invalid literal for int() with base 10: 'JKMN'"
     ]
    }
   ],
   "source": [
    "#swapping first and last value of list\n",
    "insert=int(input(\"enter a last digit: \"))\n",
    "sum=0\n",
    "li=[]\n",
    "for i in range(insert):\n",
    "    value=int(input(\"enter value: \"))\n",
    "    li.append(value)\n",
    "print(li)\n",
    "li[1],li[-2]=li[-2],li[1]\n",
    "print(li)\n"
   ]
  },
  {
   "cell_type": "code",
   "execution_count": 3,
   "id": "e83335c8-4fbd-4da8-808f-9ec4428c1e62",
   "metadata": {},
   "outputs": [
    {
     "name": "stdin",
     "output_type": "stream",
     "text": [
      "ENTER A VALUE:  1\n",
      "WANT TO QUIT IF YES TYPE Q OR q:  w\n",
      "ENTER A VALUE:  2\n",
      "WANT TO QUIT IF YES TYPE Q OR q:  w\n",
      "ENTER A VALUE:  3\n",
      "WANT TO QUIT IF YES TYPE Q OR q:  q\n"
     ]
    },
    {
     "name": "stdout",
     "output_type": "stream",
     "text": [
      "[1, 2, 3]\n"
     ]
    }
   ],
   "source": [
    "li=[]\n",
    "while True:\n",
    "    value=int(input(\"ENTER A VALUE: \"))\n",
    "    li.append(value)\n",
    "    ch=input(\"WANT TO QUIT IF YES TYPE Q OR q: \")\n",
    "    if ch==\"Q\" or ch==\"q\":\n",
    "        break\n",
    "print(li)"
   ]
  },
  {
   "cell_type": "code",
   "execution_count": null,
   "id": "4fd10630-aa10-413e-bf10-77dc0a91d422",
   "metadata": {},
   "outputs": [],
   "source": [
    "li=[]\n",
    "while True:\n",
    "    value=int(input(\"ENTER A VALUE: \"))\n",
    "    li.append(value)\n",
    "    ch=input(\"WANT TO QUIT IF YES TYPE Q OR q: \")\n",
    "    if ch.lower()==\"q\":\n",
    "        break\n",
    "print(li)"
   ]
  },
  {
   "cell_type": "code",
   "execution_count": 7,
   "id": "fc53e28f-87ba-4946-a154-c9ff89d0a0bb",
   "metadata": {},
   "outputs": [
    {
     "name": "stdin",
     "output_type": "stream",
     "text": [
      "ENTER A VALUE:  1\n",
      "WANT TO QUIT IF YES TYPE Q OR q:  1\n",
      "ENTER A VALUE:  2\n",
      "WANT TO QUIT IF YES TYPE Q OR q:  2\n",
      "ENTER A VALUE:  3\n",
      "WANT TO QUIT IF YES TYPE Q OR q:  3\n",
      "ENTER A VALUE:  4\n",
      "WANT TO QUIT IF YES TYPE Q OR q:  4\n",
      "ENTER A VALUE:  5\n",
      "WANT TO QUIT IF YES TYPE Q OR q:  5\n",
      "ENTER A VALUE:  6\n",
      "WANT TO QUIT IF YES TYPE Q OR q:  Q\n",
      "ENTER A ELEMENT TO BE FOUND:  1\n"
     ]
    },
    {
     "name": "stdout",
     "output_type": "stream",
     "text": [
      "0\n"
     ]
    }
   ],
   "source": [
    "li=[]\n",
    "while True:\n",
    "    value=int(input(\"ENTER A VALUE: \"))\n",
    "    li.append(value)\n",
    "    ch=input(\"WANT TO QUIT IF YES TYPE Q OR q: \")\n",
    "    if ch.lower()==\"q\":\n",
    "        break\n",
    "element=int(input(\"ENTER A ELEMENT TO BE FOUND: \"))\n",
    "for i in range(0,len(li)):\n",
    "    if element==li[i]:\n",
    "        print(i)\n",
    "        break\n",
    "\n",
    "else:\n",
    "    print(\"ELEMENT NOT FOUND...\")"
   ]
  },
  {
   "cell_type": "code",
   "execution_count": 11,
   "id": "a756cfc4-d4ab-44ac-855b-99ff41e4d1fd",
   "metadata": {},
   "outputs": [
    {
     "name": "stdin",
     "output_type": "stream",
     "text": [
      "ENTER A VALUE:  1\n",
      "WANT TO QUIT IF YES TYPE Q OR q:  1\n",
      "ENTER A VALUE:  2\n",
      "WANT TO QUIT IF YES TYPE Q OR q:  2\n",
      "ENTER A VALUE:  3\n",
      "WANT TO QUIT IF YES TYPE Q OR q:  3\n",
      "ENTER A VALUE:  4\n",
      "WANT TO QUIT IF YES TYPE Q OR q:  4\n",
      "ENTER A VALUE:  5\n",
      "WANT TO QUIT IF YES TYPE Q OR q:  5\n",
      "ENTER A VALUE:  6\n",
      "WANT TO QUIT IF YES TYPE Q OR q:  q\n",
      "ENTER A ELEMENT TO BE FOUND:  1\n"
     ]
    },
    {
     "name": "stdout",
     "output_type": "stream",
     "text": [
      "0\n"
     ]
    }
   ],
   "source": [
    "li=[]\n",
    "while True:\n",
    "    value=int(input(\"ENTER A VALUE: \"))\n",
    "    li.append(value)\n",
    "    ch=input(\"WANT TO QUIT IF YES TYPE Q OR q: \")\n",
    "    if ch.lower()==\"q\":\n",
    "        break\n",
    "element=int(input(\"ENTER A ELEMENT TO BE FOUND: \"))\n",
    "for i in li:\n",
    "    if element==i:\n",
    "        print(li.index(i))\n",
    "        break\n",
    "\n",
    "else:\n",
    "    print(\"ELEMENT NOT FOUND...\")"
   ]
  },
  {
   "cell_type": "code",
   "execution_count": 15,
   "id": "fd120c76-e9ba-49df-9f00-6c5a6be1a192",
   "metadata": {},
   "outputs": [
    {
     "name": "stdin",
     "output_type": "stream",
     "text": [
      "ENTER A VALUE:  dxv'\n"
     ]
    },
    {
     "ename": "ValueError",
     "evalue": "invalid literal for int() with base 10: \"dxv'\"",
     "output_type": "error",
     "traceback": [
      "\u001b[1;31m---------------------------------------------------------------------------\u001b[0m",
      "\u001b[1;31mValueError\u001b[0m                                Traceback (most recent call last)",
      "Cell \u001b[1;32mIn[15], line 4\u001b[0m\n\u001b[0;32m      2\u001b[0m f\u001b[38;5;241m=\u001b[39m\u001b[38;5;241m0\u001b[39m\n\u001b[0;32m      3\u001b[0m \u001b[38;5;28;01mwhile\u001b[39;00m \u001b[38;5;28;01mTrue\u001b[39;00m:\n\u001b[1;32m----> 4\u001b[0m     value\u001b[38;5;241m=\u001b[39m\u001b[38;5;28mint\u001b[39m(\u001b[38;5;28minput\u001b[39m(\u001b[38;5;124m\"\u001b[39m\u001b[38;5;124mENTER A VALUE: \u001b[39m\u001b[38;5;124m\"\u001b[39m))\n\u001b[0;32m      5\u001b[0m     li\u001b[38;5;241m.\u001b[39mappend(value)\n\u001b[0;32m      6\u001b[0m     ch\u001b[38;5;241m=\u001b[39m\u001b[38;5;28minput\u001b[39m(\u001b[38;5;124m\"\u001b[39m\u001b[38;5;124mWANT TO QUIT IF YES TYPE Q OR q: \u001b[39m\u001b[38;5;124m\"\u001b[39m)\n",
      "\u001b[1;31mValueError\u001b[0m: invalid literal for int() with base 10: \"dxv'\""
     ]
    }
   ],
   "source": [
    "li=[]\n",
    "f=0\n",
    "while True:\n",
    "    value=int(input(\"ENTER A VALUE: \"))\n",
    "    li.append(value)\n",
    "    ch=input(\"WANT TO QUIT IF YES TYPE Q OR q: \")\n",
    "    if ch.lower()==\"q\":\n",
    "        break\n",
    "element=int(input(\"ENTER A ELEMENT TO BE FOUND: \"))\n",
    "for i in li:\n",
    "    if element==i:\n",
    "        a=li.index(i)\n",
    "        f+=1\n",
    "\n",
    "if f==0:\n",
    "    print(\"ELEMENT NOT FOUND...\")\n",
    "else:\n",
    "    print(a)"
   ]
  },
  {
   "cell_type": "code",
   "execution_count": 19,
   "id": "e0ac62a9-e0bd-4c6d-b50c-f1e104e1197f",
   "metadata": {},
   "outputs": [
    {
     "name": "stdin",
     "output_type": "stream",
     "text": [
      "ENTER A VALUE:  1\n",
      "WANT TO QUIT IF YES TYPE Q OR q:  1\n",
      "ENTER A VALUE:  2\n",
      "WANT TO QUIT IF YES TYPE Q OR q:  2\n",
      "ENTER A VALUE:  3\n",
      "WANT TO QUIT IF YES TYPE Q OR q:  3\n",
      "ENTER A VALUE:  4\n",
      "WANT TO QUIT IF YES TYPE Q OR q:  4\n",
      "ENTER A VALUE:  5\n",
      "WANT TO QUIT IF YES TYPE Q OR q:  q\n",
      "ENTER A ELEMENT TO BE FOUND:  2\n"
     ]
    },
    {
     "name": "stdout",
     "output_type": "stream",
     "text": [
      "INDEX NUMBER OF THE GIVEN VALUE= 1\n",
      "MAXIMUM= 5\n"
     ]
    }
   ],
   "source": [
    "li=[]\n",
    "f=0\n",
    "while True:\n",
    "    value=int(input(\"ENTER A VALUE: \"))\n",
    "    li.append(value)\n",
    "    ch=input(\"WANT TO QUIT IF YES TYPE Q OR q: \")\n",
    "    if ch.lower()==\"q\":\n",
    "        break\n",
    "element=int(input(\"ENTER A ELEMENT TO BE FOUND: \"))\n",
    "for i in li:\n",
    "    if element==i:\n",
    "        print(\"INDEX NUMBER OF THE GIVEN VALUE=\",li.index(i))\n",
    "        break\n",
    "print(\"MAXIMUM=\",max(li))\n"
   ]
  },
  {
   "cell_type": "code",
   "execution_count": 21,
   "id": "b1b31d98-1417-4206-8a03-0a6150b6902d",
   "metadata": {},
   "outputs": [
    {
     "name": "stdin",
     "output_type": "stream",
     "text": [
      "ENTER A VALUE:  1\n",
      "WANT TO QUIT IF YES TYPE Q OR q:  1\n",
      "ENTER A VALUE:  2\n",
      "WANT TO QUIT IF YES TYPE Q OR q:  2\n",
      "ENTER A VALUE:  3\n",
      "WANT TO QUIT IF YES TYPE Q OR q:  3\n",
      "ENTER A VALUE:  4\n",
      "WANT TO QUIT IF YES TYPE Q OR q:  4\n",
      "ENTER A VALUE:  5\n",
      "WANT TO QUIT IF YES TYPE Q OR q:  q\n",
      "ENTER A ELEMENT TO BE FOUND:  3\n"
     ]
    },
    {
     "name": "stdout",
     "output_type": "stream",
     "text": [
      "INDEX NUMBER OF THE GIVEN VALUE= 2\n",
      "MINIMUM= 1\n"
     ]
    }
   ],
   "source": [
    "li=[]\n",
    "f=0\n",
    "while True:\n",
    "    value=int(input(\"ENTER A VALUE: \"))\n",
    "    li.append(value)\n",
    "    ch=input(\"WANT TO QUIT IF YES TYPE Q OR q: \")\n",
    "    if ch.lower()==\"q\":\n",
    "        break\n",
    "element=int(input(\"ENTER A ELEMENT TO BE FOUND: \"))\n",
    "for i in li:\n",
    "    if element==i:\n",
    "        print(\"INDEX NUMBER OF THE GIVEN VALUE=\",li.index(i))\n",
    "        break\n",
    "print(\"MINIMUM=\",min(li))\n"
   ]
  },
  {
   "cell_type": "code",
   "execution_count": 23,
   "id": "128db426-e222-4403-9f1b-51ef5c6a8116",
   "metadata": {},
   "outputs": [
    {
     "name": "stdin",
     "output_type": "stream",
     "text": [
      "ENTER A VALUE:  1\n",
      "WANT TO QUIT IF YES TYPE Q OR q:  1\n",
      "ENTER A VALUE:  2\n",
      "WANT TO QUIT IF YES TYPE Q OR q:  2\n",
      "ENTER A VALUE:  3\n",
      "WANT TO QUIT IF YES TYPE Q OR q:  3\n",
      "ENTER A VALUE:  4\n",
      "WANT TO QUIT IF YES TYPE Q OR q:  4\n",
      "ENTER A VALUE:  5\n",
      "WANT TO QUIT IF YES TYPE Q OR q:  q\n",
      "ENTER A ELEMENT TO BE FOUND:  2\n"
     ]
    },
    {
     "name": "stdout",
     "output_type": "stream",
     "text": [
      "INDEX NUMBER OF THE GIVEN VALUE= 1\n",
      "MAXIMUM= 0\n"
     ]
    }
   ],
   "source": [
    "li=[]\n",
    "f=0\n",
    "max=0\n",
    "min=0\n",
    "while True:\n",
    "    value=int(input(\"ENTER A VALUE: \"))\n",
    "    li.append(value)\n",
    "    ch=input(\"WANT TO QUIT IF YES TYPE Q OR q: \")\n",
    "    if ch.lower()==\"q\":\n",
    "        break\n",
    "element=int(input(\"ENTER A ELEMENT TO BE FOUND: \"))\n",
    "for i in li:\n",
    "    if element==i:\n",
    "        print(\"INDEX NUMBER OF THE GIVEN VALUE=\",li.index(i))\n",
    "        break\n",
    "for j in li:\n",
    "    if max>i:\n",
    "        max=i\n",
    "    if min<i:\n",
    "        min=i\n",
    "print(\"MAXIMUM=\",max)\n",
    "print(\"MINIMUM=\",min)"
   ]
  },
  {
   "cell_type": "code",
   "execution_count": null,
   "id": "ac449a07-a654-4de5-8d98-210c96d2f19f",
   "metadata": {},
   "outputs": [],
   "source": []
  }
 ],
 "metadata": {
  "kernelspec": {
   "display_name": "Python 3 (ipykernel)",
   "language": "python",
   "name": "python3"
  },
  "language_info": {
   "codemirror_mode": {
    "name": "ipython",
    "version": 3
   },
   "file_extension": ".py",
   "mimetype": "text/x-python",
   "name": "python",
   "nbconvert_exporter": "python",
   "pygments_lexer": "ipython3",
   "version": "3.12.4"
  }
 },
 "nbformat": 4,
 "nbformat_minor": 5
}
