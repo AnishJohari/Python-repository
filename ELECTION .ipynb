{
 "cells": [
  {
   "cell_type": "code",
   "execution_count": 5,
   "id": "7badf54e-7b98-4d96-8f1f-8f6edd85cb0f",
   "metadata": {},
   "outputs": [
    {
     "name": "stdin",
     "output_type": "stream",
     "text": [
      "PROVIDE YOUR NAME:  Anish\n",
      "PROVIDE YOUR AGE:  19\n"
     ]
    },
    {
     "name": "stdout",
     "output_type": "stream",
     "text": [
      "\n",
      "ELIGIBLE...\n",
      "\n",
      "******** VOTING LIST ********\n",
      "1. BJP\n",
      "2. INDIAN NATIONAL CONGRESS\n",
      "3. SAMAJWADI PARTY\n",
      "4. BAHUJAN SAMAJ PARTY\n",
      "***************************\n"
     ]
    },
    {
     "name": "stdin",
     "output_type": "stream",
     "text": [
      "ENTER SERIAL NUMBER OF YOUR DESIRED PARTY FOR VOTE:  1\n",
      "FOR GIVING VOTE TYPE Y/y ELSE N/n:  n\n"
     ]
    },
    {
     "name": "stdout",
     "output_type": "stream",
     "text": [
      "THE ELECTION EINNER IS BJP\n"
     ]
    }
   ],
   "source": [
    "BJP = 0;INC = 0;SWP = 0;BSP = 0\n",
    "while True:\n",
    "    name = input(\"PROVIDE YOUR NAME: \")\n",
    "    age = int(input(\"PROVIDE YOUR AGE: \"))\n",
    "    if 18 <= age < 100:\n",
    "        print(\"\\nELIGIBLE...\\n\")\n",
    "        print(\"******** VOTING LIST ********\")\n",
    "        print(\"1. BJP\\n2. INDIAN NATIONAL CONGRESS\\n3.SAMAJWADI PARTY\\n4. BAHUJAN SAMAJ PARTY\")\n",
    "        print(\"***************************\")\n",
    "        choice = input(\"PROVIDE SERIAL NUMBER OF YOUR DESIRED PARTY: \")\n",
    "        if choice == '1':\n",
    "            BJP += 1\n",
    "        elif choice == '2':\n",
    "            INC += 1\n",
    "        elif choice == '3':\n",
    "            SWP += 1\n",
    "        elif choice == '4':\n",
    "            BSP += 1\n",
    "        else:\n",
    "            print(\"INVALID CHOICE GIVEN. VOTING WILL NOT BE COUNTED.\")\n",
    "    else:\n",
    "        print(\"\\nNOT ELIGIBLE...\\n\")\n",
    "    more = input(\"FOR GIVING VOTE TYPE Y/y ELSE N/n: \")\n",
    "    if more == 'y' or more == \"Y\":\n",
    "        continue\n",
    "    elif more == 'n' or more == \"N\":\n",
    "        break\n",
    "if BJP>INC:\n",
    "    if BJP>SWP:\n",
    "        if BJP>BSP:\n",
    "            print(\"THE WINNER OF THE ELECTION IS BJP...\")\n",
    "        else:\n",
    "            print(\"THE WINNER OF THE ELECTION IS BSP...\")\n",
    "elif INC>BJP:\n",
    "    if INC>SWP:\n",
    "        if INC>BSP:\n",
    "            print(\"THE WINNER OF THE ELECTION IS INC...\")\n",
    "        else:\n",
    "            print(\"THE WINNER OF THE ELECTION IS BSP...\")\n",
    "elif SWP>BJP:\n",
    "    if SWP>INC:\n",
    "        if SWP>BSP:\n",
    "            print(\"THE WINNER OF THE ELECTION IS SWP...\")\n",
    "        else:\n",
    "            print(\"THE WINNER OF THE ELECTION IS BSP...\")\n",
    "elif BJP==INC or BJP==SWP or BJP==BSP:\n",
    "    print(\"THERE IS A TIE BETWEEN PARTIES...\")\n",
    "elif INC==BJP or INC==SWP or INC==BSP:\n",
    "    print(\"THERE IS A TIE BETWEEN PARTIES...\")\n",
    "elif SWP==BJP or SWP==INC or SWP==BSP:\n",
    "    print(\"THERE IS A TIE BETWEEN PARTIES...\")"
   ]
  },
  {
   "cell_type": "code",
   "execution_count": null,
   "id": "ee2aac42-5844-4659-897c-bc6d72892636",
   "metadata": {},
   "outputs": [],
   "source": []
  }
 ],
 "metadata": {
  "kernelspec": {
   "display_name": "Python 3 (ipykernel)",
   "language": "python",
   "name": "python3"
  },
  "language_info": {
   "codemirror_mode": {
    "name": "ipython",
    "version": 3
   },
   "file_extension": ".py",
   "mimetype": "text/x-python",
   "name": "python",
   "nbconvert_exporter": "python",
   "pygments_lexer": "ipython3",
   "version": "3.12.4"
  }
 },
 "nbformat": 4,
 "nbformat_minor": 5
}
