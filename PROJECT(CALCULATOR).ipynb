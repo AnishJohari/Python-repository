{
 "cells": [
  {
   "cell_type": "code",
   "execution_count": null,
   "id": "5c7d2020-0194-48f9-8a37-c665bbfb75e5",
   "metadata": {},
   "outputs": [
    {
     "name": "stdout",
     "output_type": "stream",
     "text": [
      "**********CALCULATOR**********\n",
      "1. ADDITION(A/a)\n",
      "2. SUBTRACTION(S/s) \n",
      "3. MULTIPLICATION(M/m) \n",
      "4. DIVISION(D/d)\n",
      "5. EXIT FROM CALCULATOR(E/e)\n",
      "\n",
      "******************************\n"
     ]
    }
   ],
   "source": [
    "print(\"**********CALCULATOR**********\")\n",
    "print(\"1. ADDITION(A/a)\\n2. SUBTRACTION(S/s) \\n3. MULTIPLICATION(M/m) \\n4. DIVISION(D/d)\\n5. EXIT FROM CALCULATOR(E/e)\\n\")\n",
    "print(\"******************************\")\n",
    "choice=input(\"PROVIDE US YOUR CHOICE BY GIVING ALPHABETS WRITTEN BESIDES THEM : \")\n",
    "if choice==\"A\" or choice==\"a\":\n",
    "    num1=int(input(\"ENTER FIRST VALUE : \"))\n",
    "    num2=int(input(\"ENTER SECOND VALUE : \"))\n",
    "    add=num1+num2\n",
    "    print(\"THE ADDITION OF GIVEN VALUES ARE \",add)\n",
    "elif choice==\"S\" or choice==\"s\":\n",
    "    num1=int(input(\"ENTER FIRST VALUE : \"))\n",
    "    num2=int(input(\"ENTER SECOND VALUE : \"))\n",
    "    sub=num1-num2\n",
    "    print(\"THE SUBTRACTION OF GIVEN VALUES ARE \",sub)\n",
    "elif choice==\"M\" or choice==\"m\":\n",
    "    num1=int(input(\"ENTER FIRST VALUE : \"))\n",
    "    num2=int(input(\"ENTER SECOND VALUE : \"))\n",
    "    mul=num1*num2\n",
    "    print(\"THE MULTIPLICATION OF GIVEN VALUES ARE \",mul)\n",
    "elif choice==\"D\" or choice==\"d\":\n",
    "    num1=int(input(\"ENTER FIRST VALUE : \"))\n",
    "    num2=int(input(\"ENTER SECOND VALUE : \"))\n",
    "    divide=num1/num2\n",
    "    print(\"THE DIVISION OF GIVEN VALUES ARE \",divide)\n",
    "elif choice==\"E\" or choice==\"e\":\n",
    "    exit()"
   ]
  },
  {
   "cell_type": "code",
   "execution_count": null,
   "id": "275d9aca-b594-4613-95c6-edb695c9419d",
   "metadata": {},
   "outputs": [],
   "source": []
  }
 ],
 "metadata": {
  "kernelspec": {
   "display_name": "Python 3 (ipykernel)",
   "language": "python",
   "name": "python3"
  },
  "language_info": {
   "codemirror_mode": {
    "name": "ipython",
    "version": 3
   },
   "file_extension": ".py",
   "mimetype": "text/x-python",
   "name": "python",
   "nbconvert_exporter": "python",
   "pygments_lexer": "ipython3",
   "version": "3.12.4"
  }
 },
 "nbformat": 4,
 "nbformat_minor": 5
}
